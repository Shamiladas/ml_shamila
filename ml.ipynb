{
  "nbformat": 4,
  "nbformat_minor": 0,
  "metadata": {
    "colab": {
      "provenance": [],
      "toc_visible": true,
      "authorship_tag": "ABX9TyPdkRVWMpd4+oicN9JN4gpj",
      "include_colab_link": true
    },
    "kernelspec": {
      "name": "python3",
      "display_name": "Python 3"
    },
    "language_info": {
      "name": "python"
    }
  },
  "cells": [
    {
      "cell_type": "markdown",
      "metadata": {
        "id": "view-in-github",
        "colab_type": "text"
      },
      "source": [
        "<a href=\"https://colab.research.google.com/github/Shamiladas/ml_shamila/blob/main/ml.ipynb\" target=\"_parent\"><img src=\"https://colab.research.google.com/assets/colab-badge.svg\" alt=\"Open In Colab\"/></a>"
      ]
    },
    {
      "cell_type": "code",
      "execution_count": null,
      "metadata": {
        "colab": {
          "base_uri": "https://localhost:8080/"
        },
        "id": "RuPX99ePs-Ur",
        "outputId": "c78d49b9-8ab1-4ab9-e73d-f59545f55d60"
      },
      "outputs": [
        {
          "output_type": "stream",
          "name": "stdout",
          "text": [
            "Predicted result for 4.5 hours: Fail\n",
            "Enter hours studied: 8\n",
            "Prediction: Pass\n"
          ]
        }
      ],
      "source": [
        "import numpy as np\n",
        "import matplotlib.pyplot as plt\n",
        "from sklearn.linear_model import LogisticRegression\n",
        "X = np.array([[1], [2], [3], [4], [5], [6], [7], [8]])\n",
        "y = np.array([0, 0, 0, 0, 1, 1, 1, 1])\n",
        "model = LogisticRegression()\n",
        "model.fit(X, y)\n",
        "\n",
        "test_input = np.array([[4.5]])\n",
        "prediction = model.predict(test_input)\n",
        "\n",
        "print(f\"Predicted result for 4.5 hours: {'Pass' if prediction[0] == 1 else 'Fail'}\")\n",
        "\n",
        "hours = float(input(\"Enter hours studied: \"))\n",
        "pred = model.predict([[hours]])\n",
        "print(\"Prediction:\", \"Pass\" if pred[0] == 1 else \"Fail\")\n",
        "\n",
        "\n"
      ]
    }
  ]
}