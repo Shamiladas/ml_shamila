{
  "nbformat": 4,
  "nbformat_minor": 0,
  "metadata": {
    "colab": {
      "provenance": [],
      "mount_file_id": "1cNQyMUmBHqnH-DO9mj7yr05kptuBPBMK",
      "authorship_tag": "ABX9TyM5tU3zjCVKWphMQmn3b0U9",
      "include_colab_link": true
    },
    "kernelspec": {
      "name": "python3",
      "display_name": "Python 3"
    },
    "language_info": {
      "name": "python"
    }
  },
  "cells": [
    {
      "cell_type": "markdown",
      "metadata": {
        "id": "view-in-github",
        "colab_type": "text"
      },
      "source": [
        "<a href=\"https://colab.research.google.com/github/Shamiladas/ml_shamila/blob/main/ml_task2.ipynb\" target=\"_parent\"><img src=\"https://colab.research.google.com/assets/colab-badge.svg\" alt=\"Open In Colab\"/></a>"
      ]
    },
    {
      "cell_type": "code",
      "execution_count": null,
      "metadata": {
        "colab": {
          "base_uri": "https://localhost:8080/"
        },
        "id": "XED5UjlFL5_o",
        "outputId": "9961cd18-1cc8-4bce-cfd9-b6ab0965ec47"
      },
      "outputs": [
        {
          "output_type": "stream",
          "name": "stdout",
          "text": [
            "  Train_Name Departure_Station Arrival_Station       Departure_Time  \\\n",
            "0    Express            Mumbai       Bangalore  2024-01-28 11:45:12   \n",
            "1      Local           Chennai            Pune  2024-03-31 23:42:55   \n",
            "2       Mail           Chennai         Lucknow  2024-07-28 13:48:12   \n",
            "3  Superfast              Pune          Jaipur  2024-06-04 14:10:53   \n",
            "4  Superfast           Kolkata          Jaipur  2024-09-19 05:08:03   \n",
            "\n",
            "     Scheduled_Arrival       Actual_Arrival Weather_Condition  Is_Delayed  \n",
            "0  2024-01-29 10:45:12  2024-01-29 11:49:12             Storm           1  \n",
            "1  2024-04-01 09:42:55  2024-04-01 09:42:55             Storm           0  \n",
            "2  2024-07-29 06:48:12  2024-07-29 08:14:12             Clear           1  \n",
            "3  2024-06-05 04:10:53  2024-06-05 05:49:53              Rain           1  \n",
            "4  2024-09-20 09:08:03  2024-09-20 09:08:03             Clear           0  \n",
            "<class 'pandas.core.frame.DataFrame'>\n",
            "RangeIndex: 10 entries, 0 to 9\n",
            "Data columns (total 8 columns):\n",
            " #   Column             Non-Null Count  Dtype \n",
            "---  ------             --------------  ----- \n",
            " 0   Train_Name         10 non-null     object\n",
            " 1   Departure_Station  10 non-null     object\n",
            " 2   Arrival_Station    10 non-null     object\n",
            " 3   Departure_Time     10 non-null     object\n",
            " 4   Scheduled_Arrival  10 non-null     object\n",
            " 5   Actual_Arrival     10 non-null     object\n",
            " 6   Weather_Condition  10 non-null     object\n",
            " 7   Is_Delayed         10 non-null     int64 \n",
            "dtypes: int64(1), object(7)\n",
            "memory usage: 772.0+ bytes\n",
            "None\n",
            "              precision    recall  f1-score   support\n",
            "\n",
            "           0       0.00      0.00      0.00       2.0\n",
            "           1       0.00      0.00      0.00       0.0\n",
            "\n",
            "    accuracy                           0.00       2.0\n",
            "   macro avg       0.00      0.00      0.00       2.0\n",
            "weighted avg       0.00      0.00      0.00       2.0\n",
            "\n",
            "Accuracy: 0.0\n"
          ]
        },
        {
          "output_type": "stream",
          "name": "stderr",
          "text": [
            "/usr/local/lib/python3.11/dist-packages/sklearn/metrics/_classification.py:1565: UndefinedMetricWarning: Precision is ill-defined and being set to 0.0 in labels with no predicted samples. Use `zero_division` parameter to control this behavior.\n",
            "  _warn_prf(average, modifier, f\"{metric.capitalize()} is\", len(result))\n",
            "/usr/local/lib/python3.11/dist-packages/sklearn/metrics/_classification.py:1565: UndefinedMetricWarning: Recall is ill-defined and being set to 0.0 in labels with no true samples. Use `zero_division` parameter to control this behavior.\n",
            "  _warn_prf(average, modifier, f\"{metric.capitalize()} is\", len(result))\n",
            "/usr/local/lib/python3.11/dist-packages/sklearn/metrics/_classification.py:1565: UndefinedMetricWarning: Precision is ill-defined and being set to 0.0 in labels with no predicted samples. Use `zero_division` parameter to control this behavior.\n",
            "  _warn_prf(average, modifier, f\"{metric.capitalize()} is\", len(result))\n",
            "/usr/local/lib/python3.11/dist-packages/sklearn/metrics/_classification.py:1565: UndefinedMetricWarning: Recall is ill-defined and being set to 0.0 in labels with no true samples. Use `zero_division` parameter to control this behavior.\n",
            "  _warn_prf(average, modifier, f\"{metric.capitalize()} is\", len(result))\n",
            "/usr/local/lib/python3.11/dist-packages/sklearn/metrics/_classification.py:1565: UndefinedMetricWarning: Precision is ill-defined and being set to 0.0 in labels with no predicted samples. Use `zero_division` parameter to control this behavior.\n",
            "  _warn_prf(average, modifier, f\"{metric.capitalize()} is\", len(result))\n",
            "/usr/local/lib/python3.11/dist-packages/sklearn/metrics/_classification.py:1565: UndefinedMetricWarning: Recall is ill-defined and being set to 0.0 in labels with no true samples. Use `zero_division` parameter to control this behavior.\n",
            "  _warn_prf(average, modifier, f\"{metric.capitalize()} is\", len(result))\n",
            "/usr/local/lib/python3.11/dist-packages/sklearn/model_selection/_split.py:805: UserWarning: The least populated class in y has only 4 members, which is less than n_splits=5.\n",
            "  warnings.warn(\n"
          ]
        },
        {
          "output_type": "stream",
          "name": "stdout",
          "text": [
            "Average CV Accuracy: 0.3\n"
          ]
        }
      ],
      "source": [
        "import pandas as pd\n",
        "df = pd.read_csv('/content/train_delay_sample_10.csv')\n",
        "print(df.head())\n",
        "print(df.info())\n",
        "from sklearn.preprocessing import LabelEncoder\n",
        "\n",
        "le = LabelEncoder()\n",
        "df['Train_Name'] = le.fit_transform(df['Train_Name'])\n",
        "df['Departure_Station'] = le.fit_transform(df['Departure_Station'])\n",
        "df['Arrival_Station'] = le.fit_transform(df['Arrival_Station'])\n",
        "df['Departure_Time'] = le.fit_transform(df['Departure_Time'])\n",
        "df['Scheduled_Arrival'] = le.fit_transform(df['Scheduled_Arrival'])\n",
        "df['Actual_Arrival'] = le.fit_transform(df['Actual_Arrival'])\n",
        "df['Weather_Condition'] = le.fit_transform(df['Weather_Condition'])\n",
        "df['Is_Delayed']=le.fit_transform(df['Is_Delayed'])\n",
        "from sklearn.model_selection import train_test_split\n",
        "\n",
        "X = df.drop('Is_Delayed', axis=1)\n",
        "y = df['Is_Delayed']\n",
        "X_train, X_test, y_train, y_test = train_test_split(X, y, test_size=0.2, random_state=42)\n",
        "from sklearn.ensemble import RandomForestClassifier\n",
        "from sklearn.metrics import classification_report\n",
        "\n",
        "model = RandomForestClassifier()\n",
        "model.fit(X_train, y_train)\n",
        "\n",
        "y_pred = model.predict(X_test)\n",
        "print(classification_report(y_test, y_pred))\n",
        "from sklearn.metrics import accuracy_score\n",
        "\n",
        "accuracy = accuracy_score(y_test, y_pred)\n",
        "print(f\"Accuracy: {accuracy}\")\n",
        "from sklearn.model_selection import cross_val_score\n",
        "\n",
        "scores = cross_val_score(model, X, y, cv=5)\n",
        "print(f\"Average CV Accuracy: {scores.mean()}\")\n",
        "import pandas as pd\n",
        "df['Departure_Time'] = pd.to_datetime(df['Departure_Time'])\n",
        "df['Scheduled_Arrival'] = pd.to_datetime(df['Scheduled_Arrival'])\n",
        "df['Actual_Arrival'] = pd.to_datetime(df['Actual_Arrival'])\n",
        "\n",
        "df['Delay_Minutes'] = (df['Actual_Arrival'] - df['Scheduled_Arrival']).dt.total_seconds() / 60\n",
        "df['Departure_Hour'] = df['Departure_Time'].dt.hour\n",
        "df['Day_of_Week'] = df['Departure_Time'].dt.dayofweek\n"
      ]
    }
  ]
}